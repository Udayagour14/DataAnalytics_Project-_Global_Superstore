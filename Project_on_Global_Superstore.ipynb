{
 "cells": [
  {
   "cell_type": "code",
   "execution_count": null,
   "id": "f1d0f901-cd1d-4d76-93a9-95225999bb61",
   "metadata": {},
   "outputs": [],
   "source": [
    "import pandas as pd"
   ]
  },
  {
   "cell_type": "code",
   "execution_count": null,
   "id": "3a66c251-503d-46fa-94a9-e2d21cac6118",
   "metadata": {},
   "outputs": [],
   "source": [
    "import numpy as  np"
   ]
  },
  {
   "cell_type": "code",
   "execution_count": null,
   "id": "9c604e6c-f878-4d90-b2a9-bd559ffddf5b",
   "metadata": {},
   "outputs": [],
   "source": [
    "pd.set_option('display.min_rows',50)"
   ]
  },
  {
   "cell_type": "code",
   "execution_count": null,
   "id": "9c5cd9a8-4c81-4c5a-a89d-ee0f0e486b01",
   "metadata": {},
   "outputs": [],
   "source": [
    "df = pd.read_csv(\"E:\\python project\\Pandas_Project_Session\\data\\global_superstore\\global_superstore_2016.csv\",encoding='latin1')"
   ]
  },
  {
   "cell_type": "code",
   "execution_count": 149,
   "id": "8553b75a-6d7c-4f99-8778-f8866b4a47d8",
   "metadata": {},
   "outputs": [
    {
     "data": {
      "text/html": [
       "<div>\n",
       "<style scoped>\n",
       "    .dataframe tbody tr th:only-of-type {\n",
       "        vertical-align: middle;\n",
       "    }\n",
       "\n",
       "    .dataframe tbody tr th {\n",
       "        vertical-align: top;\n",
       "    }\n",
       "\n",
       "    .dataframe thead th {\n",
       "        text-align: right;\n",
       "    }\n",
       "</style>\n",
       "<table border=\"1\" class=\"dataframe\">\n",
       "  <thead>\n",
       "    <tr style=\"text-align: right;\">\n",
       "      <th></th>\n",
       "      <th>Row ID</th>\n",
       "      <th>Order ID</th>\n",
       "      <th>Order Date</th>\n",
       "      <th>Ship Date</th>\n",
       "      <th>Ship Mode</th>\n",
       "      <th>Customer ID</th>\n",
       "      <th>Customer Name</th>\n",
       "      <th>Segment</th>\n",
       "      <th>Postal Code</th>\n",
       "      <th>City</th>\n",
       "      <th>State</th>\n",
       "      <th>Country</th>\n",
       "      <th>Region</th>\n",
       "      <th>Market</th>\n",
       "      <th>Product ID</th>\n",
       "      <th>Category</th>\n",
       "      <th>Sub-Category</th>\n",
       "      <th>Product Name</th>\n",
       "      <th>Sales</th>\n",
       "      <th>Quantity</th>\n",
       "      <th>Discount</th>\n",
       "      <th>Profit</th>\n",
       "      <th>Shipping Cost</th>\n",
       "      <th>Order Priority</th>\n",
       "    </tr>\n",
       "  </thead>\n",
       "  <tbody>\n",
       "    <tr>\n",
       "      <th>0</th>\n",
       "      <td>40098</td>\n",
       "      <td>CA-2014-AB10015140-41954</td>\n",
       "      <td>2014-11-11</td>\n",
       "      <td>2014-11-13</td>\n",
       "      <td>First Class</td>\n",
       "      <td>AB-100151402</td>\n",
       "      <td>Aaron Bergman</td>\n",
       "      <td>Consumer</td>\n",
       "      <td>73120.0</td>\n",
       "      <td>Oklahoma City</td>\n",
       "      <td>Oklahoma</td>\n",
       "      <td>United States</td>\n",
       "      <td>Central US</td>\n",
       "      <td>USCA</td>\n",
       "      <td>TEC-PH-5816</td>\n",
       "      <td>Technology</td>\n",
       "      <td>Phones</td>\n",
       "      <td>Samsung Convoy 3</td>\n",
       "      <td>222</td>\n",
       "      <td>2</td>\n",
       "      <td>0.0</td>\n",
       "      <td>62</td>\n",
       "      <td>41</td>\n",
       "      <td>High</td>\n",
       "    </tr>\n",
       "    <tr>\n",
       "      <th>1</th>\n",
       "      <td>26341</td>\n",
       "      <td>IN-2014-JR162107-41675</td>\n",
       "      <td>2014-02-05</td>\n",
       "      <td>NaT</td>\n",
       "      <td>Second Class</td>\n",
       "      <td>JR-162107</td>\n",
       "      <td>Justin Ritter</td>\n",
       "      <td>Corporate</td>\n",
       "      <td>NaN</td>\n",
       "      <td>Wollongong</td>\n",
       "      <td>New South Wales</td>\n",
       "      <td>Australia</td>\n",
       "      <td>Oceania</td>\n",
       "      <td>Asia Pacific</td>\n",
       "      <td>FUR-CH-5379</td>\n",
       "      <td>Furniture</td>\n",
       "      <td>Chairs</td>\n",
       "      <td>Novimex Executive Leather Armchair, Black</td>\n",
       "      <td>3709</td>\n",
       "      <td>9</td>\n",
       "      <td>0.1</td>\n",
       "      <td>289</td>\n",
       "      <td>924</td>\n",
       "      <td>Critical</td>\n",
       "    </tr>\n",
       "    <tr>\n",
       "      <th>2</th>\n",
       "      <td>25330</td>\n",
       "      <td>IN-2014-CR127307-41929</td>\n",
       "      <td>NaT</td>\n",
       "      <td>2014-10-18</td>\n",
       "      <td>First Class</td>\n",
       "      <td>CR-127307</td>\n",
       "      <td>Craig Reiter</td>\n",
       "      <td>Consumer</td>\n",
       "      <td>NaN</td>\n",
       "      <td>Brisbane</td>\n",
       "      <td>Queensland</td>\n",
       "      <td>Australia</td>\n",
       "      <td>Oceania</td>\n",
       "      <td>Asia Pacific</td>\n",
       "      <td>TEC-PH-5356</td>\n",
       "      <td>Technology</td>\n",
       "      <td>Phones</td>\n",
       "      <td>Nokia Smart Phone, with Caller ID</td>\n",
       "      <td>5175</td>\n",
       "      <td>9</td>\n",
       "      <td>0.1</td>\n",
       "      <td>920</td>\n",
       "      <td>915</td>\n",
       "      <td>Medium</td>\n",
       "    </tr>\n",
       "    <tr>\n",
       "      <th>3</th>\n",
       "      <td>13524</td>\n",
       "      <td>ES-2014-KM1637548-41667</td>\n",
       "      <td>NaT</td>\n",
       "      <td>2014-01-30</td>\n",
       "      <td>First Class</td>\n",
       "      <td>KM-1637548</td>\n",
       "      <td>Katherine Murray</td>\n",
       "      <td>Home Office</td>\n",
       "      <td>NaN</td>\n",
       "      <td>Berlin</td>\n",
       "      <td>Berlin</td>\n",
       "      <td>Germany</td>\n",
       "      <td>Western Europe</td>\n",
       "      <td>Europe</td>\n",
       "      <td>TEC-PH-5267</td>\n",
       "      <td>Technology</td>\n",
       "      <td>Phones</td>\n",
       "      <td>Motorola Smart Phone, Cordless</td>\n",
       "      <td>2893</td>\n",
       "      <td>5</td>\n",
       "      <td>0.1</td>\n",
       "      <td>97</td>\n",
       "      <td>910</td>\n",
       "      <td>Medium</td>\n",
       "    </tr>\n",
       "    <tr>\n",
       "      <th>4</th>\n",
       "      <td>47221</td>\n",
       "      <td>SG-2014-RH9495111-41948</td>\n",
       "      <td>2014-11-05</td>\n",
       "      <td>NaT</td>\n",
       "      <td>Same Day</td>\n",
       "      <td>RH-9495111</td>\n",
       "      <td>Rick Hansen</td>\n",
       "      <td>Consumer</td>\n",
       "      <td>NaN</td>\n",
       "      <td>Dakar</td>\n",
       "      <td>Dakar</td>\n",
       "      <td>Senegal</td>\n",
       "      <td>Western Africa</td>\n",
       "      <td>Africa</td>\n",
       "      <td>TEC-CO-6011</td>\n",
       "      <td>Technology</td>\n",
       "      <td>Copiers</td>\n",
       "      <td>Sharp Wireless Fax, High-Speed</td>\n",
       "      <td>2833</td>\n",
       "      <td>8</td>\n",
       "      <td>0.0</td>\n",
       "      <td>312</td>\n",
       "      <td>903</td>\n",
       "      <td>Critical</td>\n",
       "    </tr>\n",
       "  </tbody>\n",
       "</table>\n",
       "</div>"
      ],
      "text/plain": [
       "   Row ID                  Order ID Order Date  Ship Date     Ship Mode  \\\n",
       "0   40098  CA-2014-AB10015140-41954 2014-11-11 2014-11-13   First Class   \n",
       "1   26341    IN-2014-JR162107-41675 2014-02-05        NaT  Second Class   \n",
       "2   25330    IN-2014-CR127307-41929        NaT 2014-10-18   First Class   \n",
       "3   13524   ES-2014-KM1637548-41667        NaT 2014-01-30   First Class   \n",
       "4   47221   SG-2014-RH9495111-41948 2014-11-05        NaT      Same Day   \n",
       "\n",
       "    Customer ID     Customer Name      Segment  Postal Code           City  \\\n",
       "0  AB-100151402     Aaron Bergman     Consumer      73120.0  Oklahoma City   \n",
       "1     JR-162107     Justin Ritter    Corporate          NaN     Wollongong   \n",
       "2     CR-127307      Craig Reiter     Consumer          NaN       Brisbane   \n",
       "3    KM-1637548  Katherine Murray  Home Office          NaN         Berlin   \n",
       "4    RH-9495111       Rick Hansen     Consumer          NaN          Dakar   \n",
       "\n",
       "             State        Country          Region        Market   Product ID  \\\n",
       "0         Oklahoma  United States      Central US          USCA  TEC-PH-5816   \n",
       "1  New South Wales      Australia         Oceania  Asia Pacific  FUR-CH-5379   \n",
       "2       Queensland      Australia         Oceania  Asia Pacific  TEC-PH-5356   \n",
       "3           Berlin        Germany  Western Europe        Europe  TEC-PH-5267   \n",
       "4            Dakar        Senegal  Western Africa        Africa  TEC-CO-6011   \n",
       "\n",
       "     Category Sub-Category                               Product Name  Sales  \\\n",
       "0  Technology       Phones                           Samsung Convoy 3    222   \n",
       "1   Furniture       Chairs  Novimex Executive Leather Armchair, Black   3709   \n",
       "2  Technology       Phones          Nokia Smart Phone, with Caller ID   5175   \n",
       "3  Technology       Phones             Motorola Smart Phone, Cordless   2893   \n",
       "4  Technology      Copiers             Sharp Wireless Fax, High-Speed   2833   \n",
       "\n",
       "   Quantity  Discount  Profit  Shipping Cost Order Priority  \n",
       "0         2       0.0      62             41           High  \n",
       "1         9       0.1     289            924       Critical  \n",
       "2         9       0.1     920            915         Medium  \n",
       "3         5       0.1      97            910         Medium  \n",
       "4         8       0.0     312            903       Critical  "
      ]
     },
     "execution_count": 149,
     "metadata": {},
     "output_type": "execute_result"
    }
   ],
   "source": [
    "df.head()"
   ]
  },
  {
   "cell_type": "code",
   "execution_count": null,
   "id": "5ec31e4d-0059-4b4e-a2c6-9759d4749f25",
   "metadata": {},
   "outputs": [],
   "source": [
    "df.info()"
   ]
  },
  {
   "cell_type": "code",
   "execution_count": null,
   "id": "8eebee6b-be86-4738-b553-97a397c0cf72",
   "metadata": {},
   "outputs": [],
   "source": [
    "df.describe()"
   ]
  },
  {
   "cell_type": "markdown",
   "id": "8d42eabf-4fff-44b3-b5e8-c5e18fda0209",
   "metadata": {},
   "source": [
    "convert OrderDate and ShipDate to datetime object"
   ]
  },
  {
   "cell_type": "code",
   "execution_count": null,
   "id": "51744c42-70ea-419f-87fc-1ac06c5d4109",
   "metadata": {
    "scrolled": true
   },
   "outputs": [],
   "source": [
    "df['Order Date'] = pd.to_datetime(df['Order Date'],errors='coerce')\n"
   ]
  },
  {
   "cell_type": "code",
   "execution_count": null,
   "id": "e641d958-c943-4a8d-bda2-17805e76e322",
   "metadata": {
    "scrolled": true
   },
   "outputs": [],
   "source": [
    "df['Ship Date'] = pd.to_datetime(df['Ship Date'],errors='coerce')"
   ]
  },
  {
   "cell_type": "code",
   "execution_count": null,
   "id": "15a25161-153b-4b40-b23d-ce330edbbc5c",
   "metadata": {},
   "outputs": [],
   "source": [
    "df.dtypes"
   ]
  },
  {
   "cell_type": "code",
   "execution_count": null,
   "id": "d0aaf486-c87b-4e6c-aaba-bd51beee976f",
   "metadata": {},
   "outputs": [],
   "source": [
    "df.head()"
   ]
  },
  {
   "cell_type": "code",
   "execution_count": null,
   "id": "dfac7e67-0c11-4cae-9036-d8857bb91f07",
   "metadata": {},
   "outputs": [],
   "source": [
    "df[['Order Date','Ship Date']]"
   ]
  },
  {
   "cell_type": "code",
   "execution_count": null,
   "id": "ed0a4a0f-e4a5-4852-8b62-adad45ebb81b",
   "metadata": {
    "scrolled": true
   },
   "outputs": [],
   "source": [
    "df"
   ]
  },
  {
   "cell_type": "code",
   "execution_count": null,
   "id": "2ae69ef9-6ece-4c1f-9183-dbbbb6cc2f64",
   "metadata": {},
   "outputs": [],
   "source": [
    "df['Shipping Cost'].astype(int)"
   ]
  },
  {
   "cell_type": "markdown",
   "id": "ab02bf80-7b9b-49b7-901d-7fda43e2f64b",
   "metadata": {},
   "source": [
    "### check whether all the values of columns 'Sales' & 'Profit' contains $ symbol or not"
   ]
  },
  {
   "cell_type": "code",
   "execution_count": null,
   "id": "d9b3a6d9-a550-4795-8ec9-0731b4ac28b2",
   "metadata": {},
   "outputs": [],
   "source": [
    "if df['Sales'].str.contains('$').all():\n",
    "    print(\"Yes:$ is present\")\n",
    "else:\n",
    "    print(\"No: $ is not present\")"
   ]
  },
  {
   "cell_type": "code",
   "execution_count": null,
   "id": "c250120a-856f-428d-bbb8-80a8c1581320",
   "metadata": {},
   "outputs": [],
   "source": [
    "if df['Profit'].str.contains('$').all():\n",
    "    print(\"Yes:$ IS present\")\n",
    "else:\n",
    "    print(\"No: $ is not present\")"
   ]
  },
  {
   "cell_type": "code",
   "execution_count": null,
   "id": "f47dd6be-c7d3-43ba-ab9a-63bd40d55abc",
   "metadata": {
    "scrolled": true
   },
   "outputs": [],
   "source": [
    "df.dtypes"
   ]
  },
  {
   "cell_type": "markdown",
   "id": "c55df8a1-4b56-40e8-bd36-4a76780b9853",
   "metadata": {},
   "source": [
    "### clean the columns 'Sales' & 'Profit' whcih consists of '$', '(', & ')' symbols"
   ]
  },
  {
   "cell_type": "code",
   "execution_count": null,
   "id": "8dc4f073-214f-4381-9c3d-faa4cddc34db",
   "metadata": {},
   "outputs": [],
   "source": [
    "df['Sales'] = df['Sales'].str.replace('\\$',' ',regex = True)\n",
    "df['Sales'][:10]"
   ]
  },
  {
   "cell_type": "code",
   "execution_count": null,
   "id": "eff03752-7b46-469b-b84b-ebbce5ae7263",
   "metadata": {},
   "outputs": [],
   "source": [
    "df['Sales'] = df['Sales'].str.replace(',','',regex = True)\n",
    "df['Sales'][:10]"
   ]
  },
  {
   "cell_type": "code",
   "execution_count": null,
   "id": "324b8194-c912-44a8-b34f-fa07b0365b62",
   "metadata": {},
   "outputs": [],
   "source": [
    "df['Profit'] = df['Profit'].str.replace('\\$',' ',regex = True)"
   ]
  },
  {
   "cell_type": "code",
   "execution_count": null,
   "id": "a3978fd5-3af0-48b3-b402-b611b20175be",
   "metadata": {},
   "outputs": [],
   "source": [
    "df['Profit'][:10]"
   ]
  },
  {
   "cell_type": "code",
   "execution_count": null,
   "id": "37bf9caf-9f3c-49f0-9586-407dbcdda53c",
   "metadata": {},
   "outputs": [],
   "source": [
    "df['Profit'] = df['Profit'].str.replace('\\$',' ',regex = True)"
   ]
  },
  {
   "cell_type": "code",
   "execution_count": null,
   "id": "bd3e1504-56c5-4ac4-9d94-b9c000a4f0ba",
   "metadata": {},
   "outputs": [],
   "source": [
    "df['Profit'] = df['Profit'].str.replace('\\)',' ',regex = True)"
   ]
  },
  {
   "cell_type": "code",
   "execution_count": null,
   "id": "838f04ff-412b-448a-8f6c-0a518cb11977",
   "metadata": {},
   "outputs": [],
   "source": [
    "df['Profit'] = df['Profit'].str.replace('\\(', '',regex = True)"
   ]
  },
  {
   "cell_type": "code",
   "execution_count": null,
   "id": "e05f98ee-3400-4785-b8e5-6dcf271f01cb",
   "metadata": {},
   "outputs": [],
   "source": [
    "df['Profit']"
   ]
  },
  {
   "cell_type": "code",
   "execution_count": null,
   "id": "ade30387-8467-4a35-adad-5ae343990fb6",
   "metadata": {},
   "outputs": [],
   "source": [
    "df.info()"
   ]
  },
  {
   "cell_type": "code",
   "execution_count": null,
   "id": "0bdc1712-9fec-453b-b47f-6ebe5fbbed57",
   "metadata": {
    "scrolled": true
   },
   "outputs": [],
   "source": [
    "df"
   ]
  },
  {
   "cell_type": "markdown",
   "id": "bf5f4b22-f101-42cb-80da-a0d1aff43bc4",
   "metadata": {},
   "source": [
    "## Let's begin the analysis with the Project Questions\n",
    "### 1. Total how many orders have cross the shipping cost of 500?"
   ]
  },
  {
   "cell_type": "code",
   "execution_count": null,
   "id": "7601e383-7e0e-44e9-ad35-11407c6b569c",
   "metadata": {},
   "outputs": [],
   "source": [
    "shipping_cost = (df['Shipping Cost']>500)\n",
    "shipping_cost[:5]"
   ]
  },
  {
   "cell_type": "code",
   "execution_count": 150,
   "id": "e78d38f0-614b-4bd7-a378-257f6a3649cb",
   "metadata": {},
   "outputs": [
    {
     "data": {
      "text/plain": [
       "np.int64(120)"
      ]
     },
     "execution_count": 150,
     "metadata": {},
     "output_type": "execute_result"
    }
   ],
   "source": [
    "total_orders = shipping_cost.sum()\n",
    "total_orders"
   ]
  },
  {
   "cell_type": "markdown",
   "id": "02fcd524-507e-4867-a53c-97e9a95ebc93",
   "metadata": {},
   "source": [
    "#### 2. Count the number of segments, countries, regions, markets, categories, and sub-categories present in the global_superstore_2016 data."
   ]
  },
  {
   "cell_type": "code",
   "execution_count": null,
   "id": "07e44bb7-6b87-4b61-9097-f47a6ffd342a",
   "metadata": {},
   "outputs": [],
   "source": [
    "df.Segment.value_counts()"
   ]
  },
  {
   "cell_type": "code",
   "execution_count": null,
   "id": "a10e6758-5901-479f-a676-43c727b36b14",
   "metadata": {},
   "outputs": [],
   "source": [
    "df['Country'].value_counts()"
   ]
  },
  {
   "cell_type": "code",
   "execution_count": null,
   "id": "e5825be4-4b4b-40cd-83cb-81c6987ce710",
   "metadata": {},
   "outputs": [],
   "source": [
    "len(df['Country'].value_counts())"
   ]
  },
  {
   "cell_type": "code",
   "execution_count": null,
   "id": "3a2d0904-c9d3-4492-b5dd-96066e9f69a3",
   "metadata": {},
   "outputs": [],
   "source": [
    "df['Region'].value_counts()"
   ]
  },
  {
   "cell_type": "code",
   "execution_count": null,
   "id": "31b9f28b-8591-4b7f-adef-fba370120b2f",
   "metadata": {},
   "outputs": [],
   "source": [
    "df['Market'].value_counts()"
   ]
  },
  {
   "cell_type": "code",
   "execution_count": null,
   "id": "1bbc570d-5c2d-4463-8c03-ef9f8b9773d2",
   "metadata": {},
   "outputs": [],
   "source": [
    "df['Category'].value_counts()"
   ]
  },
  {
   "cell_type": "code",
   "execution_count": null,
   "id": "a74de0a6-24c7-46b9-a4e7-2eddfae44029",
   "metadata": {
    "scrolled": true
   },
   "outputs": [],
   "source": [
    "df['Sub-Category'].value_counts()"
   ]
  },
  {
   "cell_type": "code",
   "execution_count": null,
   "id": "0630f2ea-ee8d-48a9-8a70-2cb611aacb40",
   "metadata": {
    "scrolled": true
   },
   "outputs": [],
   "source": [
    "df.columns"
   ]
  },
  {
   "cell_type": "markdown",
   "id": "8d7a9b5e-eb42-4555-943a-0b1b017f18ba",
   "metadata": {},
   "source": [
    "#### 3. Get the list of Order ID's where the Indian customer's have bought the things under the category 'Technology' after paying the Shipping Cost more than 500."
   ]
  },
  {
   "cell_type": "code",
   "execution_count": null,
   "id": "f7d0e69d-90e5-41fd-843c-d761e35d8b00",
   "metadata": {},
   "outputs": [],
   "source": [
    "list_indian_customers = (df['Country']== 'India') & (df['Category']=='Technology') & (df['Shipping Cost'] >= 500)\n",
    "list_indian_customers"
   ]
  },
  {
   "cell_type": "code",
   "execution_count": null,
   "id": "8b41ba9b-0c51-40e1-9bcd-bbca350d8194",
   "metadata": {
    "scrolled": true
   },
   "outputs": [],
   "source": [
    "order_id = df[list_indian_customers]\n",
    "order_id"
   ]
  },
  {
   "cell_type": "code",
   "execution_count": null,
   "id": "7ec3f819-2e16-4a78-a07d-0b1aaf032581",
   "metadata": {},
   "outputs": [],
   "source": [
    "df.dtypes"
   ]
  },
  {
   "cell_type": "code",
   "execution_count": null,
   "id": "5800471f-6090-4b80-a801-d31be34c1543",
   "metadata": {},
   "outputs": [],
   "source": [
    "df['Sales'] = pd.to_numeric(df['Sales'],errors = 'coerce')"
   ]
  },
  {
   "cell_type": "code",
   "execution_count": null,
   "id": "a37b478d-c7c5-4207-932f-686ac23574ee",
   "metadata": {},
   "outputs": [],
   "source": [
    "df['Sales'] = df['Sales'].round().astype(int)\n",
    "df.dtypes"
   ]
  },
  {
   "cell_type": "code",
   "execution_count": null,
   "id": "fa0e1ee7-918c-42a3-a18d-c8c072fdde2c",
   "metadata": {},
   "outputs": [],
   "source": [
    "df['Shipping Cost'] = df['Shipping Cost'].round().astype(int)"
   ]
  },
  {
   "cell_type": "code",
   "execution_count": null,
   "id": "3fb7c590-268b-4973-a33e-e22cf316fd7f",
   "metadata": {},
   "outputs": [],
   "source": [
    "df['Profit'] = pd.to_numeric(df['Profit'],errors = 'coerce')\n",
    "\n"
   ]
  },
  {
   "cell_type": "code",
   "execution_count": null,
   "id": "09727212-ec5e-4b52-b10a-8d3b0aee131a",
   "metadata": {},
   "outputs": [],
   "source": [
    "df['Profit'] = df['Profit'].fillna(0)"
   ]
  },
  {
   "cell_type": "code",
   "execution_count": null,
   "id": "de51cb15-472f-4125-bea3-8b13ba531190",
   "metadata": {},
   "outputs": [],
   "source": [
    "df['Profit'] = df['Profit'].round().astype(int)"
   ]
  },
  {
   "cell_type": "code",
   "execution_count": null,
   "id": "568ccaba-9e17-4c37-af19-44540a64039e",
   "metadata": {
    "scrolled": true
   },
   "outputs": [],
   "source": [
    "df.dtypes"
   ]
  },
  {
   "cell_type": "markdown",
   "id": "25a24510-f4a1-4ca9-9b8e-df56927d2607",
   "metadata": {},
   "source": [
    "### 4. Get the list of Order ID's where the Indian customer's have bought the things under the category 'Technology' where the Sales is greater than 500."
   ]
  },
  {
   "cell_type": "code",
   "execution_count": null,
   "id": "57a518b7-513f-499d-8585-74214f6e9cf3",
   "metadata": {},
   "outputs": [],
   "source": [
    "bought = (df['Country']=='India') & (df['Category']=='Technology') & (df['Sales'] > 500)"
   ]
  },
  {
   "cell_type": "markdown",
   "id": "89042b92-427f-48ac-802a-f375aba8100c",
   "metadata": {},
   "source": [
    "## 5.How many people from the State 'Karnataka' have bought the things under the category 'Technology'."
   ]
  },
  {
   "cell_type": "code",
   "execution_count": null,
   "id": "cd027b6a-98ee-4e16-a5b7-50222bdbe2b5",
   "metadata": {
    "scrolled": true
   },
   "outputs": [],
   "source": [
    "c = df[(df['State'] == 'Karnataka')& (df['Category']=='Technology')]\n",
    "pd.set_option('display.max_columns', None)\n",
    "c"
   ]
  },
  {
   "cell_type": "markdown",
   "id": "494c51fd-e66c-4131-bbb5-c77c422cafb1",
   "metadata": {},
   "source": [
    "#### 6. Get the list of countries where the 'Profit' and 'Shipping Cost's are greater than or equal to 2000 and 300 respectively.¶"
   ]
  },
  {
   "cell_type": "code",
   "execution_count": null,
   "id": "f8f1883a-4b27-4c07-8dfe-b7e1e94c0ace",
   "metadata": {},
   "outputs": [],
   "source": [
    "profit_greater = (df['Profit'] >= 2000) & (df['Shipping Cost'] >= 300)\n",
    "cond1 = df[profit_greater]"
   ]
  },
  {
   "cell_type": "code",
   "execution_count": null,
   "id": "31436e0e-a470-4497-9320-f339f5ef9ad6",
   "metadata": {
    "scrolled": true
   },
   "outputs": [],
   "source": [
    "cond1.head(5)"
   ]
  },
  {
   "cell_type": "markdown",
   "id": "23de5039-aabd-4122-8e58-e10127d58860",
   "metadata": {},
   "source": [
    "### 7. Find the list of Indian states where the people have purchased the things under the category Technology."
   ]
  },
  {
   "cell_type": "code",
   "execution_count": null,
   "id": "4ba2898a-c2ee-401d-a4f6-8c8b3f5f049b",
   "metadata": {},
   "outputs": [],
   "source": [
    "cond_states_tech = (df['Country']=='India') & (df['Category']=='Technology')"
   ]
  },
  {
   "cell_type": "code",
   "execution_count": null,
   "id": "7c27871e-8853-43ae-b211-581e8e072732",
   "metadata": {},
   "outputs": [],
   "source": [
    "Indian_States = df[cond_states_tech]\n"
   ]
  },
  {
   "cell_type": "code",
   "execution_count": null,
   "id": "0912dc4b-df0a-40e3-bd5a-7ab1e5804f82",
   "metadata": {},
   "outputs": [],
   "source": [
    "Indian_States['State'].drop_duplicates().tolist()"
   ]
  },
  {
   "cell_type": "markdown",
   "id": "f360bcd5-0c38-468b-8e92-cc58c737e193",
   "metadata": {},
   "source": [
    "## 8. Find the overall rank of \"India\" where the 'Profit' is maximum under the category 'Technology'."
   ]
  },
  {
   "cell_type": "code",
   "execution_count": null,
   "id": "9772e30a-9fc3-4ede-bbd8-22850d13413b",
   "metadata": {},
   "outputs": [],
   "source": [
    "pro_max =  (df['Profit'].max()) & (df['Category']=='Technology')"
   ]
  },
  {
   "cell_type": "code",
   "execution_count": null,
   "id": "6d8dc7ba-f3c3-4d3b-879a-49d3322f80c2",
   "metadata": {},
   "outputs": [],
   "source": [
    "maxx = df[pro_max]"
   ]
  },
  {
   "cell_type": "code",
   "execution_count": null,
   "id": "9323cd8f-e78c-454b-a4e3-add3460a6cca",
   "metadata": {
    "scrolled": true
   },
   "outputs": [],
   "source": [
    "maxx"
   ]
  },
  {
   "cell_type": "code",
   "execution_count": null,
   "id": "ac9f1ca8-ff20-40c0-a2f9-0cef222e7ec9",
   "metadata": {},
   "outputs": [],
   "source": [
    "global_countries = maxx.sort_values(by = ['Profit'],ascending=False)\n",
    "global_countries.head(5)"
   ]
  },
  {
   "cell_type": "code",
   "execution_count": null,
   "id": "9f21471a-3789-4106-9b7b-a63645ca795f",
   "metadata": {
    "scrolled": true
   },
   "outputs": [],
   "source": [
    "ranked_data = global_countries['Profit'].rank(method='min', ascending=False)\n",
    "ranked_data "
   ]
  },
  {
   "cell_type": "code",
   "execution_count": null,
   "id": "5e106d01-ef18-47cc-8148-11c1715345e2",
   "metadata": {
    "scrolled": true
   },
   "outputs": [],
   "source": [
    "global_countries['Country']"
   ]
  },
  {
   "cell_type": "code",
   "execution_count": null,
   "id": "99b0d54c-2b26-4a17-9989-70757134ca00",
   "metadata": {},
   "outputs": [],
   "source": [
    "Top_profit_countries = global_countries['Country'].drop_duplicates().tolist()"
   ]
  },
  {
   "cell_type": "code",
   "execution_count": null,
   "id": "c3a53944-09d4-4059-97da-e2cd9acc5d6c",
   "metadata": {},
   "outputs": [],
   "source": []
  },
  {
   "cell_type": "code",
   "execution_count": null,
   "id": "4dcc83b0-1fe4-4f47-9e05-aa3a73caa5f5",
   "metadata": {},
   "outputs": [],
   "source": [
    "Top_profit_countries"
   ]
  },
  {
   "cell_type": "code",
   "execution_count": null,
   "id": "c37c4f06-ea23-4ba2-8513-b8a580b661f4",
   "metadata": {},
   "outputs": [],
   "source": [
    "ranked_countries = global_countries['Country'].drop_duplicates()"
   ]
  },
  {
   "cell_type": "code",
   "execution_count": null,
   "id": "7bd8b34c-a007-4839-8502-2dbc214f84d9",
   "metadata": {
    "scrolled": true
   },
   "outputs": [],
   "source": [
    "ranked_series = pd.concat([ranked_countries,ranked_data], axis=1)\n"
   ]
  },
  {
   "cell_type": "code",
   "execution_count": null,
   "id": "ca00fc47-30a0-48a6-9a47-225423a9ec97",
   "metadata": {
    "scrolled": true
   },
   "outputs": [],
   "source": [
    "ranked_series"
   ]
  },
  {
   "cell_type": "markdown",
   "id": "b679514f-5a26-4a82-b837-e7b64b76443d",
   "metadata": {},
   "source": [
    "## 9. Display the data with min, max, average and std of 'Profit' & 'Sales' for each Sub-Category under each Category"
   ]
  },
  {
   "cell_type": "code",
   "execution_count": null,
   "id": "0a2c1a9a-f9ac-4377-9306-937369a439c1",
   "metadata": {},
   "outputs": [],
   "source": [
    "grouped_data = df.groupby(by=['Country', 'Category', 'Sub-Category'], as_index=True)\n",
    "grouped_data"
   ]
  },
  {
   "cell_type": "code",
   "execution_count": null,
   "id": "74417d6a-8b7c-4d44-b6e6-cd31eb5ebef5",
   "metadata": {},
   "outputs": [],
   "source": [
    "functions = [('min_value', 'min'), ('max_value', 'max'), ('mean_value', 'mean'), ('std_value', 'std')]\n"
   ]
  },
  {
   "cell_type": "code",
   "execution_count": null,
   "id": "7d09c551-5733-499a-8d42-5f8bf3746a7e",
   "metadata": {},
   "outputs": [],
   "source": [
    "aggregate_data = grouped_data[['Sales','Profit']].agg(functions)"
   ]
  },
  {
   "cell_type": "code",
   "execution_count": 152,
   "id": "9a4ea6b5-3e34-466b-b466-47a1b9ad9dab",
   "metadata": {
    "scrolled": true
   },
   "outputs": [
    {
     "data": {
      "text/html": [
       "<div>\n",
       "<style scoped>\n",
       "    .dataframe tbody tr th:only-of-type {\n",
       "        vertical-align: middle;\n",
       "    }\n",
       "\n",
       "    .dataframe tbody tr th {\n",
       "        vertical-align: top;\n",
       "    }\n",
       "\n",
       "    .dataframe thead tr th {\n",
       "        text-align: left;\n",
       "    }\n",
       "\n",
       "    .dataframe thead tr:last-of-type th {\n",
       "        text-align: right;\n",
       "    }\n",
       "</style>\n",
       "<table border=\"1\" class=\"dataframe\">\n",
       "  <thead>\n",
       "    <tr>\n",
       "      <th></th>\n",
       "      <th></th>\n",
       "      <th></th>\n",
       "      <th colspan=\"4\" halign=\"left\">Sales</th>\n",
       "      <th colspan=\"4\" halign=\"left\">Profit</th>\n",
       "    </tr>\n",
       "    <tr>\n",
       "      <th></th>\n",
       "      <th></th>\n",
       "      <th></th>\n",
       "      <th>min_value</th>\n",
       "      <th>max_value</th>\n",
       "      <th>mean_value</th>\n",
       "      <th>std_value</th>\n",
       "      <th>min_value</th>\n",
       "      <th>max_value</th>\n",
       "      <th>mean_value</th>\n",
       "      <th>std_value</th>\n",
       "    </tr>\n",
       "    <tr>\n",
       "      <th>Country</th>\n",
       "      <th>Category</th>\n",
       "      <th>Sub-Category</th>\n",
       "      <th></th>\n",
       "      <th></th>\n",
       "      <th></th>\n",
       "      <th></th>\n",
       "      <th></th>\n",
       "      <th></th>\n",
       "      <th></th>\n",
       "      <th></th>\n",
       "    </tr>\n",
       "  </thead>\n",
       "  <tbody>\n",
       "    <tr>\n",
       "      <th rowspan=\"17\" valign=\"top\">Afghanistan</th>\n",
       "      <th rowspan=\"4\" valign=\"top\">Furniture</th>\n",
       "      <th>Bookcases</th>\n",
       "      <td>732</td>\n",
       "      <td>2070</td>\n",
       "      <td>1401.000000</td>\n",
       "      <td>946.108873</td>\n",
       "      <td>102</td>\n",
       "      <td>849</td>\n",
       "      <td>475.500000</td>\n",
       "      <td>528.208766</td>\n",
       "    </tr>\n",
       "    <tr>\n",
       "      <th>Chairs</th>\n",
       "      <td>417</td>\n",
       "      <td>914</td>\n",
       "      <td>665.500000</td>\n",
       "      <td>351.432070</td>\n",
       "      <td>46</td>\n",
       "      <td>357</td>\n",
       "      <td>201.500000</td>\n",
       "      <td>219.910209</td>\n",
       "    </tr>\n",
       "    <tr>\n",
       "      <th>Furnishings</th>\n",
       "      <td>85</td>\n",
       "      <td>220</td>\n",
       "      <td>135.333333</td>\n",
       "      <td>51.348483</td>\n",
       "      <td>1</td>\n",
       "      <td>80</td>\n",
       "      <td>33.000000</td>\n",
       "      <td>32.273828</td>\n",
       "    </tr>\n",
       "    <tr>\n",
       "      <th>Tables</th>\n",
       "      <td>267</td>\n",
       "      <td>4626</td>\n",
       "      <td>2113.666667</td>\n",
       "      <td>2254.452114</td>\n",
       "      <td>35</td>\n",
       "      <td>648</td>\n",
       "      <td>415.666667</td>\n",
       "      <td>332.331662</td>\n",
       "    </tr>\n",
       "    <tr>\n",
       "      <th rowspan=\"9\" valign=\"top\">Office Supplies</th>\n",
       "      <th>Appliances</th>\n",
       "      <td>669</td>\n",
       "      <td>669</td>\n",
       "      <td>669.000000</td>\n",
       "      <td>NaN</td>\n",
       "      <td>281</td>\n",
       "      <td>281</td>\n",
       "      <td>281.000000</td>\n",
       "      <td>NaN</td>\n",
       "    </tr>\n",
       "    <tr>\n",
       "      <th>Art</th>\n",
       "      <td>30</td>\n",
       "      <td>178</td>\n",
       "      <td>111.000000</td>\n",
       "      <td>69.942834</td>\n",
       "      <td>8</td>\n",
       "      <td>76</td>\n",
       "      <td>33.250000</td>\n",
       "      <td>30.761177</td>\n",
       "    </tr>\n",
       "    <tr>\n",
       "      <th>Binders</th>\n",
       "      <td>34</td>\n",
       "      <td>252</td>\n",
       "      <td>97.666667</td>\n",
       "      <td>82.918434</td>\n",
       "      <td>1</td>\n",
       "      <td>53</td>\n",
       "      <td>21.666667</td>\n",
       "      <td>20.016660</td>\n",
       "    </tr>\n",
       "    <tr>\n",
       "      <th>Envelopes</th>\n",
       "      <td>79</td>\n",
       "      <td>231</td>\n",
       "      <td>171.333333</td>\n",
       "      <td>81.094595</td>\n",
       "      <td>9</td>\n",
       "      <td>86</td>\n",
       "      <td>39.666667</td>\n",
       "      <td>40.820746</td>\n",
       "    </tr>\n",
       "    <tr>\n",
       "      <th>Fasteners</th>\n",
       "      <td>14</td>\n",
       "      <td>45</td>\n",
       "      <td>29.500000</td>\n",
       "      <td>21.920310</td>\n",
       "      <td>2</td>\n",
       "      <td>2</td>\n",
       "      <td>2.000000</td>\n",
       "      <td>0.000000</td>\n",
       "    </tr>\n",
       "    <tr>\n",
       "      <th>Labels</th>\n",
       "      <td>13</td>\n",
       "      <td>64</td>\n",
       "      <td>39.333333</td>\n",
       "      <td>25.540817</td>\n",
       "      <td>1</td>\n",
       "      <td>22</td>\n",
       "      <td>13.666667</td>\n",
       "      <td>11.150486</td>\n",
       "    </tr>\n",
       "    <tr>\n",
       "      <th>Paper</th>\n",
       "      <td>15</td>\n",
       "      <td>123</td>\n",
       "      <td>77.250000</td>\n",
       "      <td>45.154365</td>\n",
       "      <td>3</td>\n",
       "      <td>43</td>\n",
       "      <td>14.750000</td>\n",
       "      <td>18.945096</td>\n",
       "    </tr>\n",
       "    <tr>\n",
       "      <th>Storage</th>\n",
       "      <td>62</td>\n",
       "      <td>333</td>\n",
       "      <td>190.500000</td>\n",
       "      <td>121.766169</td>\n",
       "      <td>21</td>\n",
       "      <td>71</td>\n",
       "      <td>46.750000</td>\n",
       "      <td>22.838199</td>\n",
       "    </tr>\n",
       "    <tr>\n",
       "      <th>Supplies</th>\n",
       "      <td>69</td>\n",
       "      <td>244</td>\n",
       "      <td>154.666667</td>\n",
       "      <td>87.557600</td>\n",
       "      <td>19</td>\n",
       "      <td>104</td>\n",
       "      <td>56.666667</td>\n",
       "      <td>43.316663</td>\n",
       "    </tr>\n",
       "    <tr>\n",
       "      <th rowspan=\"4\" valign=\"top\">Technology</th>\n",
       "      <th>Accessories</th>\n",
       "      <td>115</td>\n",
       "      <td>1471</td>\n",
       "      <td>409.400000</td>\n",
       "      <td>593.736726</td>\n",
       "      <td>4</td>\n",
       "      <td>515</td>\n",
       "      <td>112.800000</td>\n",
       "      <td>224.974887</td>\n",
       "    </tr>\n",
       "    <tr>\n",
       "      <th>Copiers</th>\n",
       "      <td>427</td>\n",
       "      <td>712</td>\n",
       "      <td>569.500000</td>\n",
       "      <td>201.525433</td>\n",
       "      <td>4</td>\n",
       "      <td>7</td>\n",
       "      <td>5.500000</td>\n",
       "      <td>2.121320</td>\n",
       "    </tr>\n",
       "    <tr>\n",
       "      <th>Machines</th>\n",
       "      <td>346</td>\n",
       "      <td>346</td>\n",
       "      <td>346.000000</td>\n",
       "      <td>NaN</td>\n",
       "      <td>14</td>\n",
       "      <td>14</td>\n",
       "      <td>14.000000</td>\n",
       "      <td>NaN</td>\n",
       "    </tr>\n",
       "    <tr>\n",
       "      <th>Phones</th>\n",
       "      <td>413</td>\n",
       "      <td>1168</td>\n",
       "      <td>732.500000</td>\n",
       "      <td>345.771119</td>\n",
       "      <td>25</td>\n",
       "      <td>444</td>\n",
       "      <td>237.250000</td>\n",
       "      <td>199.215754</td>\n",
       "    </tr>\n",
       "    <tr>\n",
       "      <th rowspan=\"8\" valign=\"top\">Albania</th>\n",
       "      <th rowspan=\"2\" valign=\"top\">Furniture</th>\n",
       "      <th>Bookcases</th>\n",
       "      <td>364</td>\n",
       "      <td>414</td>\n",
       "      <td>389.000000</td>\n",
       "      <td>35.355339</td>\n",
       "      <td>40</td>\n",
       "      <td>203</td>\n",
       "      <td>121.500000</td>\n",
       "      <td>115.258405</td>\n",
       "    </tr>\n",
       "    <tr>\n",
       "      <th>Furnishings</th>\n",
       "      <td>58</td>\n",
       "      <td>58</td>\n",
       "      <td>58.000000</td>\n",
       "      <td>NaN</td>\n",
       "      <td>3</td>\n",
       "      <td>3</td>\n",
       "      <td>3.000000</td>\n",
       "      <td>NaN</td>\n",
       "    </tr>\n",
       "    <tr>\n",
       "      <th rowspan=\"4\" valign=\"top\">Office Supplies</th>\n",
       "      <th>Art</th>\n",
       "      <td>16</td>\n",
       "      <td>174</td>\n",
       "      <td>74.333333</td>\n",
       "      <td>86.731386</td>\n",
       "      <td>2</td>\n",
       "      <td>24</td>\n",
       "      <td>10.333333</td>\n",
       "      <td>11.930353</td>\n",
       "    </tr>\n",
       "    <tr>\n",
       "      <th>Binders</th>\n",
       "      <td>6</td>\n",
       "      <td>28</td>\n",
       "      <td>17.000000</td>\n",
       "      <td>15.556349</td>\n",
       "      <td>0</td>\n",
       "      <td>2</td>\n",
       "      <td>1.000000</td>\n",
       "      <td>1.414214</td>\n",
       "    </tr>\n",
       "    <tr>\n",
       "      <th>Labels</th>\n",
       "      <td>11</td>\n",
       "      <td>11</td>\n",
       "      <td>11.000000</td>\n",
       "      <td>NaN</td>\n",
       "      <td>2</td>\n",
       "      <td>2</td>\n",
       "      <td>2.000000</td>\n",
       "      <td>NaN</td>\n",
       "    </tr>\n",
       "    <tr>\n",
       "      <th>Storage</th>\n",
       "      <td>19</td>\n",
       "      <td>219</td>\n",
       "      <td>114.666667</td>\n",
       "      <td>100.281271</td>\n",
       "      <td>9</td>\n",
       "      <td>55</td>\n",
       "      <td>35.666667</td>\n",
       "      <td>23.860707</td>\n",
       "    </tr>\n",
       "    <tr>\n",
       "      <th rowspan=\"2\" valign=\"top\">Technology</th>\n",
       "      <th>Machines</th>\n",
       "      <td>85</td>\n",
       "      <td>1619</td>\n",
       "      <td>852.000000</td>\n",
       "      <td>1084.701802</td>\n",
       "      <td>1</td>\n",
       "      <td>259</td>\n",
       "      <td>130.000000</td>\n",
       "      <td>182.433550</td>\n",
       "    </tr>\n",
       "    <tr>\n",
       "      <th>Phones</th>\n",
       "      <td>182</td>\n",
       "      <td>554</td>\n",
       "      <td>368.000000</td>\n",
       "      <td>263.043723</td>\n",
       "      <td>22</td>\n",
       "      <td>40</td>\n",
       "      <td>31.000000</td>\n",
       "      <td>12.727922</td>\n",
       "    </tr>\n",
       "    <tr>\n",
       "      <th>...</th>\n",
       "      <th>...</th>\n",
       "      <th>...</th>\n",
       "      <td>...</td>\n",
       "      <td>...</td>\n",
       "      <td>...</td>\n",
       "      <td>...</td>\n",
       "      <td>...</td>\n",
       "      <td>...</td>\n",
       "      <td>...</td>\n",
       "      <td>...</td>\n",
       "    </tr>\n",
       "    <tr>\n",
       "      <th rowspan=\"8\" valign=\"top\">Zambia</th>\n",
       "      <th rowspan=\"4\" valign=\"top\">Office Supplies</th>\n",
       "      <th>Labels</th>\n",
       "      <td>9</td>\n",
       "      <td>55</td>\n",
       "      <td>24.833333</td>\n",
       "      <td>20.970614</td>\n",
       "      <td>3</td>\n",
       "      <td>20</td>\n",
       "      <td>7.166667</td>\n",
       "      <td>6.462714</td>\n",
       "    </tr>\n",
       "    <tr>\n",
       "      <th>Paper</th>\n",
       "      <td>18</td>\n",
       "      <td>110</td>\n",
       "      <td>57.400000</td>\n",
       "      <td>41.385988</td>\n",
       "      <td>2</td>\n",
       "      <td>40</td>\n",
       "      <td>16.800000</td>\n",
       "      <td>16.392071</td>\n",
       "    </tr>\n",
       "    <tr>\n",
       "      <th>Storage</th>\n",
       "      <td>9</td>\n",
       "      <td>1023</td>\n",
       "      <td>217.125000</td>\n",
       "      <td>241.927227</td>\n",
       "      <td>3</td>\n",
       "      <td>184</td>\n",
       "      <td>53.000000</td>\n",
       "      <td>52.572490</td>\n",
       "    </tr>\n",
       "    <tr>\n",
       "      <th>Supplies</th>\n",
       "      <td>18</td>\n",
       "      <td>84</td>\n",
       "      <td>57.500000</td>\n",
       "      <td>31.596413</td>\n",
       "      <td>3</td>\n",
       "      <td>40</td>\n",
       "      <td>21.750000</td>\n",
       "      <td>16.152915</td>\n",
       "    </tr>\n",
       "    <tr>\n",
       "      <th rowspan=\"4\" valign=\"top\">Technology</th>\n",
       "      <th>Accessories</th>\n",
       "      <td>41</td>\n",
       "      <td>246</td>\n",
       "      <td>110.750000</td>\n",
       "      <td>91.928867</td>\n",
       "      <td>6</td>\n",
       "      <td>31</td>\n",
       "      <td>17.500000</td>\n",
       "      <td>10.661457</td>\n",
       "    </tr>\n",
       "    <tr>\n",
       "      <th>Copiers</th>\n",
       "      <td>122</td>\n",
       "      <td>1181</td>\n",
       "      <td>415.571429</td>\n",
       "      <td>379.685333</td>\n",
       "      <td>0</td>\n",
       "      <td>261</td>\n",
       "      <td>68.285714</td>\n",
       "      <td>87.461828</td>\n",
       "    </tr>\n",
       "    <tr>\n",
       "      <th>Machines</th>\n",
       "      <td>598</td>\n",
       "      <td>1247</td>\n",
       "      <td>937.333333</td>\n",
       "      <td>325.515489</td>\n",
       "      <td>75</td>\n",
       "      <td>263</td>\n",
       "      <td>196.333333</td>\n",
       "      <td>105.248911</td>\n",
       "    </tr>\n",
       "    <tr>\n",
       "      <th>Phones</th>\n",
       "      <td>89</td>\n",
       "      <td>1272</td>\n",
       "      <td>426.800000</td>\n",
       "      <td>501.335915</td>\n",
       "      <td>4</td>\n",
       "      <td>407</td>\n",
       "      <td>135.800000</td>\n",
       "      <td>175.133378</td>\n",
       "    </tr>\n",
       "    <tr>\n",
       "      <th rowspan=\"17\" valign=\"top\">Zimbabwe</th>\n",
       "      <th rowspan=\"4\" valign=\"top\">Furniture</th>\n",
       "      <th>Bookcases</th>\n",
       "      <td>51</td>\n",
       "      <td>86</td>\n",
       "      <td>68.500000</td>\n",
       "      <td>24.748737</td>\n",
       "      <td>109</td>\n",
       "      <td>181</td>\n",
       "      <td>145.000000</td>\n",
       "      <td>50.911688</td>\n",
       "    </tr>\n",
       "    <tr>\n",
       "      <th>Chairs</th>\n",
       "      <td>50</td>\n",
       "      <td>627</td>\n",
       "      <td>338.500000</td>\n",
       "      <td>408.000613</td>\n",
       "      <td>0</td>\n",
       "      <td>56</td>\n",
       "      <td>28.000000</td>\n",
       "      <td>39.597980</td>\n",
       "    </tr>\n",
       "    <tr>\n",
       "      <th>Furnishings</th>\n",
       "      <td>12</td>\n",
       "      <td>13</td>\n",
       "      <td>12.500000</td>\n",
       "      <td>0.707107</td>\n",
       "      <td>20</td>\n",
       "      <td>22</td>\n",
       "      <td>21.000000</td>\n",
       "      <td>1.414214</td>\n",
       "    </tr>\n",
       "    <tr>\n",
       "      <th>Tables</th>\n",
       "      <td>143</td>\n",
       "      <td>143</td>\n",
       "      <td>143.000000</td>\n",
       "      <td>NaN</td>\n",
       "      <td>276</td>\n",
       "      <td>276</td>\n",
       "      <td>276.000000</td>\n",
       "      <td>NaN</td>\n",
       "    </tr>\n",
       "    <tr>\n",
       "      <th rowspan=\"9\" valign=\"top\">Office Supplies</th>\n",
       "      <th>Appliances</th>\n",
       "      <td>29</td>\n",
       "      <td>161</td>\n",
       "      <td>115.333333</td>\n",
       "      <td>74.808645</td>\n",
       "      <td>50</td>\n",
       "      <td>284</td>\n",
       "      <td>156.333333</td>\n",
       "      <td>118.449708</td>\n",
       "    </tr>\n",
       "    <tr>\n",
       "      <th>Art</th>\n",
       "      <td>4</td>\n",
       "      <td>112</td>\n",
       "      <td>27.055556</td>\n",
       "      <td>28.814768</td>\n",
       "      <td>5</td>\n",
       "      <td>133</td>\n",
       "      <td>42.055556</td>\n",
       "      <td>43.329751</td>\n",
       "    </tr>\n",
       "    <tr>\n",
       "      <th>Binders</th>\n",
       "      <td>1</td>\n",
       "      <td>40</td>\n",
       "      <td>7.166667</td>\n",
       "      <td>11.019267</td>\n",
       "      <td>1</td>\n",
       "      <td>89</td>\n",
       "      <td>13.583333</td>\n",
       "      <td>25.130417</td>\n",
       "    </tr>\n",
       "    <tr>\n",
       "      <th>Envelopes</th>\n",
       "      <td>6</td>\n",
       "      <td>43</td>\n",
       "      <td>21.200000</td>\n",
       "      <td>14.515509</td>\n",
       "      <td>10</td>\n",
       "      <td>83</td>\n",
       "      <td>35.200000</td>\n",
       "      <td>30.474580</td>\n",
       "    </tr>\n",
       "    <tr>\n",
       "      <th>Fasteners</th>\n",
       "      <td>4</td>\n",
       "      <td>8</td>\n",
       "      <td>5.333333</td>\n",
       "      <td>2.309401</td>\n",
       "      <td>5</td>\n",
       "      <td>10</td>\n",
       "      <td>8.333333</td>\n",
       "      <td>2.886751</td>\n",
       "    </tr>\n",
       "    <tr>\n",
       "      <th>Labels</th>\n",
       "      <td>3</td>\n",
       "      <td>14</td>\n",
       "      <td>6.000000</td>\n",
       "      <td>5.354126</td>\n",
       "      <td>3</td>\n",
       "      <td>18</td>\n",
       "      <td>7.500000</td>\n",
       "      <td>7.047458</td>\n",
       "    </tr>\n",
       "    <tr>\n",
       "      <th>Paper</th>\n",
       "      <td>7</td>\n",
       "      <td>32</td>\n",
       "      <td>21.000000</td>\n",
       "      <td>11.633286</td>\n",
       "      <td>16</td>\n",
       "      <td>74</td>\n",
       "      <td>37.250000</td>\n",
       "      <td>25.342652</td>\n",
       "    </tr>\n",
       "    <tr>\n",
       "      <th>Storage</th>\n",
       "      <td>3</td>\n",
       "      <td>162</td>\n",
       "      <td>43.333333</td>\n",
       "      <td>52.127248</td>\n",
       "      <td>7</td>\n",
       "      <td>125</td>\n",
       "      <td>51.666667</td>\n",
       "      <td>43.384905</td>\n",
       "    </tr>\n",
       "    <tr>\n",
       "      <th>Supplies</th>\n",
       "      <td>11</td>\n",
       "      <td>67</td>\n",
       "      <td>38.666667</td>\n",
       "      <td>24.889087</td>\n",
       "      <td>12</td>\n",
       "      <td>56</td>\n",
       "      <td>37.833333</td>\n",
       "      <td>16.326869</td>\n",
       "    </tr>\n",
       "    <tr>\n",
       "      <th rowspan=\"4\" valign=\"top\">Technology</th>\n",
       "      <th>Accessories</th>\n",
       "      <td>78</td>\n",
       "      <td>78</td>\n",
       "      <td>78.000000</td>\n",
       "      <td>NaN</td>\n",
       "      <td>60</td>\n",
       "      <td>60</td>\n",
       "      <td>60.000000</td>\n",
       "      <td>NaN</td>\n",
       "    </tr>\n",
       "    <tr>\n",
       "      <th>Copiers</th>\n",
       "      <td>154</td>\n",
       "      <td>445</td>\n",
       "      <td>299.500000</td>\n",
       "      <td>205.768073</td>\n",
       "      <td>257</td>\n",
       "      <td>371</td>\n",
       "      <td>314.000000</td>\n",
       "      <td>80.610173</td>\n",
       "    </tr>\n",
       "    <tr>\n",
       "      <th>Machines</th>\n",
       "      <td>15</td>\n",
       "      <td>104</td>\n",
       "      <td>53.250000</td>\n",
       "      <td>42.295587</td>\n",
       "      <td>20</td>\n",
       "      <td>174</td>\n",
       "      <td>77.000000</td>\n",
       "      <td>73.143694</td>\n",
       "    </tr>\n",
       "    <tr>\n",
       "      <th>Phones</th>\n",
       "      <td>22</td>\n",
       "      <td>102</td>\n",
       "      <td>62.000000</td>\n",
       "      <td>56.568542</td>\n",
       "      <td>48</td>\n",
       "      <td>170</td>\n",
       "      <td>109.000000</td>\n",
       "      <td>86.267027</td>\n",
       "    </tr>\n",
       "  </tbody>\n",
       "</table>\n",
       "<p>2009 rows × 8 columns</p>\n",
       "</div>"
      ],
      "text/plain": [
       "                                             Sales                         \\\n",
       "                                         min_value max_value   mean_value   \n",
       "Country     Category        Sub-Category                                    \n",
       "Afghanistan Furniture       Bookcases          732      2070  1401.000000   \n",
       "                            Chairs             417       914   665.500000   \n",
       "                            Furnishings         85       220   135.333333   \n",
       "                            Tables             267      4626  2113.666667   \n",
       "            Office Supplies Appliances         669       669   669.000000   \n",
       "                            Art                 30       178   111.000000   \n",
       "                            Binders             34       252    97.666667   \n",
       "                            Envelopes           79       231   171.333333   \n",
       "                            Fasteners           14        45    29.500000   \n",
       "                            Labels              13        64    39.333333   \n",
       "                            Paper               15       123    77.250000   \n",
       "                            Storage             62       333   190.500000   \n",
       "                            Supplies            69       244   154.666667   \n",
       "            Technology      Accessories        115      1471   409.400000   \n",
       "                            Copiers            427       712   569.500000   \n",
       "                            Machines           346       346   346.000000   \n",
       "                            Phones             413      1168   732.500000   \n",
       "Albania     Furniture       Bookcases          364       414   389.000000   \n",
       "                            Furnishings         58        58    58.000000   \n",
       "            Office Supplies Art                 16       174    74.333333   \n",
       "                            Binders              6        28    17.000000   \n",
       "                            Labels              11        11    11.000000   \n",
       "                            Storage             19       219   114.666667   \n",
       "            Technology      Machines            85      1619   852.000000   \n",
       "                            Phones             182       554   368.000000   \n",
       "...                                            ...       ...          ...   \n",
       "Zambia      Office Supplies Labels               9        55    24.833333   \n",
       "                            Paper               18       110    57.400000   \n",
       "                            Storage              9      1023   217.125000   \n",
       "                            Supplies            18        84    57.500000   \n",
       "            Technology      Accessories         41       246   110.750000   \n",
       "                            Copiers            122      1181   415.571429   \n",
       "                            Machines           598      1247   937.333333   \n",
       "                            Phones              89      1272   426.800000   \n",
       "Zimbabwe    Furniture       Bookcases           51        86    68.500000   \n",
       "                            Chairs              50       627   338.500000   \n",
       "                            Furnishings         12        13    12.500000   \n",
       "                            Tables             143       143   143.000000   \n",
       "            Office Supplies Appliances          29       161   115.333333   \n",
       "                            Art                  4       112    27.055556   \n",
       "                            Binders              1        40     7.166667   \n",
       "                            Envelopes            6        43    21.200000   \n",
       "                            Fasteners            4         8     5.333333   \n",
       "                            Labels               3        14     6.000000   \n",
       "                            Paper                7        32    21.000000   \n",
       "                            Storage              3       162    43.333333   \n",
       "                            Supplies            11        67    38.666667   \n",
       "            Technology      Accessories         78        78    78.000000   \n",
       "                            Copiers            154       445   299.500000   \n",
       "                            Machines            15       104    53.250000   \n",
       "                            Phones              22       102    62.000000   \n",
       "\n",
       "                                                         Profit            \\\n",
       "                                            std_value min_value max_value   \n",
       "Country     Category        Sub-Category                                    \n",
       "Afghanistan Furniture       Bookcases      946.108873       102       849   \n",
       "                            Chairs         351.432070        46       357   \n",
       "                            Furnishings     51.348483         1        80   \n",
       "                            Tables        2254.452114        35       648   \n",
       "            Office Supplies Appliances            NaN       281       281   \n",
       "                            Art             69.942834         8        76   \n",
       "                            Binders         82.918434         1        53   \n",
       "                            Envelopes       81.094595         9        86   \n",
       "                            Fasteners       21.920310         2         2   \n",
       "                            Labels          25.540817         1        22   \n",
       "                            Paper           45.154365         3        43   \n",
       "                            Storage        121.766169        21        71   \n",
       "                            Supplies        87.557600        19       104   \n",
       "            Technology      Accessories    593.736726         4       515   \n",
       "                            Copiers        201.525433         4         7   \n",
       "                            Machines              NaN        14        14   \n",
       "                            Phones         345.771119        25       444   \n",
       "Albania     Furniture       Bookcases       35.355339        40       203   \n",
       "                            Furnishings           NaN         3         3   \n",
       "            Office Supplies Art             86.731386         2        24   \n",
       "                            Binders         15.556349         0         2   \n",
       "                            Labels                NaN         2         2   \n",
       "                            Storage        100.281271         9        55   \n",
       "            Technology      Machines      1084.701802         1       259   \n",
       "                            Phones         263.043723        22        40   \n",
       "...                                               ...       ...       ...   \n",
       "Zambia      Office Supplies Labels          20.970614         3        20   \n",
       "                            Paper           41.385988         2        40   \n",
       "                            Storage        241.927227         3       184   \n",
       "                            Supplies        31.596413         3        40   \n",
       "            Technology      Accessories     91.928867         6        31   \n",
       "                            Copiers        379.685333         0       261   \n",
       "                            Machines       325.515489        75       263   \n",
       "                            Phones         501.335915         4       407   \n",
       "Zimbabwe    Furniture       Bookcases       24.748737       109       181   \n",
       "                            Chairs         408.000613         0        56   \n",
       "                            Furnishings      0.707107        20        22   \n",
       "                            Tables                NaN       276       276   \n",
       "            Office Supplies Appliances      74.808645        50       284   \n",
       "                            Art             28.814768         5       133   \n",
       "                            Binders         11.019267         1        89   \n",
       "                            Envelopes       14.515509        10        83   \n",
       "                            Fasteners        2.309401         5        10   \n",
       "                            Labels           5.354126         3        18   \n",
       "                            Paper           11.633286        16        74   \n",
       "                            Storage         52.127248         7       125   \n",
       "                            Supplies        24.889087        12        56   \n",
       "            Technology      Accessories           NaN        60        60   \n",
       "                            Copiers        205.768073       257       371   \n",
       "                            Machines        42.295587        20       174   \n",
       "                            Phones          56.568542        48       170   \n",
       "\n",
       "                                                                  \n",
       "                                          mean_value   std_value  \n",
       "Country     Category        Sub-Category                          \n",
       "Afghanistan Furniture       Bookcases     475.500000  528.208766  \n",
       "                            Chairs        201.500000  219.910209  \n",
       "                            Furnishings    33.000000   32.273828  \n",
       "                            Tables        415.666667  332.331662  \n",
       "            Office Supplies Appliances    281.000000         NaN  \n",
       "                            Art            33.250000   30.761177  \n",
       "                            Binders        21.666667   20.016660  \n",
       "                            Envelopes      39.666667   40.820746  \n",
       "                            Fasteners       2.000000    0.000000  \n",
       "                            Labels         13.666667   11.150486  \n",
       "                            Paper          14.750000   18.945096  \n",
       "                            Storage        46.750000   22.838199  \n",
       "                            Supplies       56.666667   43.316663  \n",
       "            Technology      Accessories   112.800000  224.974887  \n",
       "                            Copiers         5.500000    2.121320  \n",
       "                            Machines       14.000000         NaN  \n",
       "                            Phones        237.250000  199.215754  \n",
       "Albania     Furniture       Bookcases     121.500000  115.258405  \n",
       "                            Furnishings     3.000000         NaN  \n",
       "            Office Supplies Art            10.333333   11.930353  \n",
       "                            Binders         1.000000    1.414214  \n",
       "                            Labels          2.000000         NaN  \n",
       "                            Storage        35.666667   23.860707  \n",
       "            Technology      Machines      130.000000  182.433550  \n",
       "                            Phones         31.000000   12.727922  \n",
       "...                                              ...         ...  \n",
       "Zambia      Office Supplies Labels          7.166667    6.462714  \n",
       "                            Paper          16.800000   16.392071  \n",
       "                            Storage        53.000000   52.572490  \n",
       "                            Supplies       21.750000   16.152915  \n",
       "            Technology      Accessories    17.500000   10.661457  \n",
       "                            Copiers        68.285714   87.461828  \n",
       "                            Machines      196.333333  105.248911  \n",
       "                            Phones        135.800000  175.133378  \n",
       "Zimbabwe    Furniture       Bookcases     145.000000   50.911688  \n",
       "                            Chairs         28.000000   39.597980  \n",
       "                            Furnishings    21.000000    1.414214  \n",
       "                            Tables        276.000000         NaN  \n",
       "            Office Supplies Appliances    156.333333  118.449708  \n",
       "                            Art            42.055556   43.329751  \n",
       "                            Binders        13.583333   25.130417  \n",
       "                            Envelopes      35.200000   30.474580  \n",
       "                            Fasteners       8.333333    2.886751  \n",
       "                            Labels          7.500000    7.047458  \n",
       "                            Paper          37.250000   25.342652  \n",
       "                            Storage        51.666667   43.384905  \n",
       "                            Supplies       37.833333   16.326869  \n",
       "            Technology      Accessories    60.000000         NaN  \n",
       "                            Copiers       314.000000   80.610173  \n",
       "                            Machines       77.000000   73.143694  \n",
       "                            Phones        109.000000   86.267027  \n",
       "\n",
       "[2009 rows x 8 columns]"
      ]
     },
     "execution_count": 152,
     "metadata": {},
     "output_type": "execute_result"
    }
   ],
   "source": [
    "aggregate_data"
   ]
  },
  {
   "cell_type": "code",
   "execution_count": null,
   "id": "d2a5d3ea-b1dd-41a8-b843-2a44bb559a0d",
   "metadata": {},
   "outputs": [],
   "source": []
  }
 ],
 "metadata": {
  "kernelspec": {
   "display_name": "Python 3 (ipykernel)",
   "language": "python",
   "name": "python3"
  },
  "language_info": {
   "codemirror_mode": {
    "name": "ipython",
    "version": 3
   },
   "file_extension": ".py",
   "mimetype": "text/x-python",
   "name": "python",
   "nbconvert_exporter": "python",
   "pygments_lexer": "ipython3",
   "version": "3.12.0"
  }
 },
 "nbformat": 4,
 "nbformat_minor": 5
}
